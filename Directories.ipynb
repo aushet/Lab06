{
 "cells": [
  {
   "cell_type": "markdown",
   "id": "d5c4b1c9-9656-444d-bcbd-8e1832b9dde7",
   "metadata": {},
   "source": [
    "Exercise1"
   ]
  },
  {
   "cell_type": "code",
   "execution_count": 2,
   "id": "e6acd3d3-7eb3-4706-adca-ffb69cb42bd5",
   "metadata": {},
   "outputs": [
    {
     "name": "stdout",
     "output_type": "stream",
     "text": [
      "Directories:\n",
      ".ipynb_checkpoints\n",
      "\n",
      "Files:\n",
      "Booleans.ipynb\n",
      "Classes.ipynb\n",
      "Data.ipynb\n",
      "Dictionaries.ipynb\n",
      "Directories.ipynb\n",
      "For.ipynb\n",
      "Functions1.ipynb\n",
      "Functions2.ipynb\n",
      "Generators.ipynb\n",
      "If_else.ipynb\n",
      "JSON.ipynb\n",
      "Lists.ipynb\n",
      "Math.ipynb\n",
      "Operators.ipynb\n",
      "RegEx.ipynb\n",
      "sample-data.json\n",
      "Sets.ipynb\n",
      "Tuples.ipynb\n",
      "Untitled.ipynb\n",
      "Untitled2.ipynb\n",
      "While.ipynb\n",
      "\n",
      "All directories and files\n",
      ".ipynb_checkpoints\n",
      "Booleans.ipynb\n",
      "Classes.ipynb\n",
      "Data.ipynb\n",
      "Dictionaries.ipynb\n",
      "Directories.ipynb\n",
      "For.ipynb\n",
      "Functions1.ipynb\n",
      "Functions2.ipynb\n",
      "Generators.ipynb\n",
      "If_else.ipynb\n",
      "JSON.ipynb\n",
      "Lists.ipynb\n",
      "Math.ipynb\n",
      "Operators.ipynb\n",
      "RegEx.ipynb\n",
      "sample-data.json\n",
      "Sets.ipynb\n",
      "Tuples.ipynb\n",
      "Untitled.ipynb\n",
      "Untitled2.ipynb\n",
      "While.ipynb\n"
     ]
    }
   ],
   "source": [
    "import os\n",
    "\n",
    "def list_dir_files(path):\n",
    "    print(\"Directories:\")\n",
    "    for item in os.listdir(path):\n",
    "        if os.path.isdir(os.path.join(path,item)):\n",
    "            print(item)\n",
    "    print(\"\\nFiles:\")\n",
    "    for item in os.listdir(path):\n",
    "        if os.path.isfile(os.path.join(path,item)):\n",
    "            print(item)\n",
    "    print(\"\\nAll directories and files\")\n",
    "    for item in os.listdir(path):\n",
    "        print(item)\n",
    "path=\"C:\\\\Users\\\\асер\\\\Desktop\\\\Jupiter\"\n",
    "list_dir_files(path)"
   ]
  },
  {
   "cell_type": "markdown",
   "id": "0372f73d-254a-4945-a0f8-e1c6b8ee450a",
   "metadata": {},
   "source": [
    "Exercise2"
   ]
  },
  {
   "cell_type": "code",
   "execution_count": 10,
   "id": "ab20d663-c33e-4980-a6ca-eb671668c041",
   "metadata": {},
   "outputs": [
    {
     "name": "stdout",
     "output_type": "stream",
     "text": [
      "Path: C:\\Users\\асер\\Desktop\\Jupiter\n",
      "Exists: Yes\n",
      "Readability: Yes\n",
      "Writability: Yes\n",
      "Executability: Yes\n"
     ]
    }
   ],
   "source": [
    "import os\n",
    "def check_path(path):\n",
    "    if not os.path.exists(path):\n",
    "        print(f\"Does not exist {path}\")\n",
    "        return\n",
    "    print(f\"Path: {path}\")\n",
    "    print(f\"Exists: {'Yes' if os.path.exists(path) else 'No'}\")\n",
    "    print(f\"Readability: {'Yes' if os.access(path, os.R_OK) else 'No'}\")\n",
    "    print(f\"Writability: {'Yes' if os.access(path, os.W_OK) else 'No'}\")\n",
    "    print(f\"Executability: {'Yes' if os.access(path, os.X_OK) else 'No'}\")\n",
    "\n",
    "path = r\"C:\\Users\\асер\\Desktop\\Jupiter\"\n",
    "check_path(path)"
   ]
  },
  {
   "cell_type": "markdown",
   "id": "4be71de4-037f-4ed8-9098-2c8ef83bf5d9",
   "metadata": {},
   "source": [
    "Exercise3"
   ]
  },
  {
   "cell_type": "code",
   "execution_count": 8,
   "id": "1706e17f-ec66-4627-8d83-97b4c9778ebe",
   "metadata": {},
   "outputs": [
    {
     "name": "stdout",
     "output_type": "stream",
     "text": [
      "Name: Jupiter\n"
     ]
    }
   ],
   "source": [
    "import os\n",
    "\n",
    "def list_items(path):\n",
    "    if not os.path.exists(path):\n",
    "        print(f\"Does not exist {path}\")\n",
    "    else:\n",
    "        print(\"Name:\",os.path.basename(path))\n",
    "path=r\"C:\\Users\\асер\\Desktop\\Jupiter\"\n",
    "list_items(path)"
   ]
  },
  {
   "cell_type": "markdown",
   "id": "03ce1b75-5020-484d-b4b5-cc6ee4c68594",
   "metadata": {},
   "source": [
    "Exercise4"
   ]
  },
  {
   "cell_type": "code",
   "execution_count": 17,
   "id": "9ce1b5dc-b6ba-4f63-80ad-50a96ba78f93",
   "metadata": {},
   "outputs": [
    {
     "name": "stdout",
     "output_type": "stream",
     "text": [
      "11\n"
     ]
    }
   ],
   "source": [
    "with open(\"my_file.txt\") as file:\n",
    "    line_count = len(file.readlines())\n",
    "print(line_count)"
   ]
  },
  {
   "cell_type": "markdown",
   "id": "462a95e0-d1b2-4848-84d8-205350a157cc",
   "metadata": {},
   "source": [
    "Exercise5"
   ]
  },
  {
   "cell_type": "code",
   "execution_count": 20,
   "id": "792d5fff-6ae1-4198-9639-fde7061e7b37",
   "metadata": {},
   "outputs": [
    {
     "name": "stdout",
     "output_type": "stream",
     "text": [
      "<_io.TextIOWrapper name='my_file1.txt' mode='w' encoding='utf-8'>\n"
     ]
    }
   ],
   "source": [
    "file = \"my_file1.txt\"\n",
    "with open(file , \"w\" , encoding=\"utf-8\") as file:\n",
    "    file.write(\"\"\"Welcome info mat!\n",
    "Defining poverty: consensual approach.\n",
    "Operationalising social class: the Erikson-Goldthorpe-Portocarero (EGP) schema.\n",
    "Measuring inequality: Gini coefficient (able to interpret)\n",
    "Measuring inequality: Lorenz curve (able to draw/interpret)\n",
    "Measuring inequality: income quintile ratio (able to calculate/interpret)\n",
    "ining poverty: consensual approach.\n",
    "Operationalising social class: the Erikson-Goldthorpe-Portocarero (EGP) schema.\n",
    "Measuring inequality: Gini coefficient (able to interpret)\n",
    "Measuring inequality: Lorenz curve (able to draw/interpret)\n",
    "Measuring inequality: income quintile ratio (able to calculate/interpret)\"\"\")\n",
    "print(file)"
   ]
  },
  {
   "cell_type": "markdown",
   "id": "da67c275-af35-4062-a21c-80656d8c051f",
   "metadata": {},
   "source": [
    "Exercise6"
   ]
  },
  {
   "cell_type": "code",
   "execution_count": 23,
   "id": "f5fe1de0-c86e-4dcc-8ab8-4b3953fb31ee",
   "metadata": {},
   "outputs": [
    {
     "name": "stdout",
     "output_type": "stream",
     "text": [
      "26 text files (A-Z) have been created successfully!\n"
     ]
    }
   ],
   "source": [
    "import os\n",
    "import string\n",
    "\n",
    "directory = \"alphabet_files\"\n",
    "os.makedirs(directory, exist_ok=True)\n",
    "\n",
    "for letter in string.ascii_uppercase:\n",
    "    file_path = os.path.join(directory, f\"{letter}.txt\")\n",
    "    with open(file_path, \"w\", encoding=\"utf-8\") as file:\n",
    "        file.write(f\"This is file {letter}.txt\\n\")\n",
    "\n",
    "print(\"26 text files (A-Z) have been created successfully!\")\n"
   ]
  },
  {
   "cell_type": "markdown",
   "id": "3ca83095-b82f-4e86-a930-3fc82e0079a4",
   "metadata": {},
   "source": [
    "Exercise7"
   ]
  },
  {
   "cell_type": "code",
   "execution_count": 28,
   "id": "c631473d-869c-472a-a65a-24ea43177726",
   "metadata": {},
   "outputs": [
    {
     "name": "stdout",
     "output_type": "stream",
     "text": [
      "Error: Source file does not exist.\n"
     ]
    }
   ],
   "source": [
    "import shutil\n",
    "\n",
    "def copy_file(source, destination):\n",
    "    try:\n",
    "        shutil.copy(source, destination)\n",
    "        print(f\"Contents of '{source}' copied to '{destination}' successfully!\")\n",
    "    except FileNotFoundError:\n",
    "        print(\"Error: Source file does not exist.\")\n",
    "    except PermissionError:\n",
    "        print(\"Error: Permission denied.\")\n",
    "    except Exception as e:\n",
    "        print(f\"An unexpected error occurred: {e}\")\n",
    "\n",
    "source_file = \"source.txt\"\n",
    "destination_file = \"destination.txt\"\n",
    "\n",
    "copy_file(source_file, destination_file)"
   ]
  },
  {
   "cell_type": "markdown",
   "id": "5b42b107-50bd-4b0f-be8e-022b7927dbc1",
   "metadata": {},
   "source": [
    "Exercise8"
   ]
  },
  {
   "cell_type": "code",
   "execution_count": 31,
   "id": "53df12c6-3643-4827-a7dc-c83d5546587b",
   "metadata": {},
   "outputs": [
    {
     "name": "stdout",
     "output_type": "stream",
     "text": [
      "Error: File does not exist.\n"
     ]
    }
   ],
   "source": [
    "import os\n",
    "\n",
    "def delete_file(file_path):\n",
    "    if not os.path.exists(file_path):\n",
    "        print(\"Error: File does not exist.\")\n",
    "        return\n",
    "\n",
    "    if not os.access(file_path, os.W_OK):\n",
    "        print(\"Error: No permission to delete the file.\")\n",
    "        return\n",
    "\n",
    "    try:\n",
    "        os.remove(file_path)\n",
    "        print(f\"File '{file_path}' has been deleted successfully.\")\n",
    "    except Exception as e:\n",
    "        print(f\"An error occurred while deleting the file: {e}\")\n",
    "file_to_delete = \"example.txt\"\n",
    "delete_file(file_to_delete)\n"
   ]
  }
 ],
 "metadata": {
  "kernelspec": {
   "display_name": "Python [conda env:base] *",
   "language": "python",
   "name": "conda-base-py"
  },
  "language_info": {
   "codemirror_mode": {
    "name": "ipython",
    "version": 3
   },
   "file_extension": ".py",
   "mimetype": "text/x-python",
   "name": "python",
   "nbconvert_exporter": "python",
   "pygments_lexer": "ipython3",
   "version": "3.12.7"
  }
 },
 "nbformat": 4,
 "nbformat_minor": 5
}
