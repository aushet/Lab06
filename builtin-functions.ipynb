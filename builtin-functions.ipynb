{
 "cells": [
  {
   "cell_type": "markdown",
   "id": "5808c3c4-7ec5-422c-9525-e4b81164d452",
   "metadata": {},
   "source": [
    "Exercise1"
   ]
  },
  {
   "cell_type": "code",
   "execution_count": 3,
   "id": "51823c33-37d1-4bab-b352-842299901d24",
   "metadata": {},
   "outputs": [
    {
     "name": "stdin",
     "output_type": "stream",
     "text": [
      " 1 2 3 4\n"
     ]
    },
    {
     "name": "stdout",
     "output_type": "stream",
     "text": [
      "24\n"
     ]
    }
   ],
   "source": [
    "import math\n",
    "\n",
    "numbers = list(map(int, input().split()))\n",
    "for  i in numbers:\n",
    "    prod_num = math.prod(numbers)\n",
    "print(prod_num)"
   ]
  },
  {
   "cell_type": "markdown",
   "id": "c888288a-1be0-4f40-b791-1e97bdd3b4a4",
   "metadata": {},
   "source": [
    "Exercise2"
   ]
  },
  {
   "cell_type": "code",
   "execution_count": 6,
   "id": "3cc4dbf0-2fd8-4d7a-9b70-5b1e1d8f2469",
   "metadata": {},
   "outputs": [
    {
     "name": "stdout",
     "output_type": "stream",
     "text": [
      "Upper case count: 3\n",
      "Lower case count: 22\n"
     ]
    }
   ],
   "source": [
    "text = \"My name is Aushet Askhat.\"\n",
    "A = False\n",
    "Upper_case = 0\n",
    "Lower_case = 0\n",
    "for i in text:\n",
    "    if i.isupper() == A:\n",
    "        Lower_case+=1\n",
    "    else:\n",
    "        Upper_case+=1\n",
    "print(f\"Upper case count: {Upper_case}\\nLower case count: {Lower_case}\")"
   ]
  },
  {
   "cell_type": "markdown",
   "id": "21100730-42eb-4661-902b-40cf00d30581",
   "metadata": {},
   "source": [
    "Exercise3"
   ]
  },
  {
   "cell_type": "code",
   "execution_count": 11,
   "id": "0aa68dcb-3300-474f-bc03-a9ec79f8e9c3",
   "metadata": {},
   "outputs": [
    {
     "name": "stdin",
     "output_type": "stream",
     "text": [
      "Enter a string:  askhat\n"
     ]
    },
    {
     "name": "stdout",
     "output_type": "stream",
     "text": [
      "False\n"
     ]
    }
   ],
   "source": [
    "def is_palindrome(s):\n",
    "    return s == s[::-1]\n",
    "\n",
    "string = input(\"Enter a string: \")\n",
    "print(is_palindrome(string))"
   ]
  },
  {
   "cell_type": "markdown",
   "id": "f5e90ce6-a9c3-4923-9d0c-34885ea976b5",
   "metadata": {},
   "source": [
    "\n"
   ]
  }
 ],
 "metadata": {
  "kernelspec": {
   "display_name": "Python [conda env:base] *",
   "language": "python",
   "name": "conda-base-py"
  },
  "language_info": {
   "codemirror_mode": {
    "name": "ipython",
    "version": 3
   },
   "file_extension": ".py",
   "mimetype": "text/x-python",
   "name": "python",
   "nbconvert_exporter": "python",
   "pygments_lexer": "ipython3",
   "version": "3.12.7"
  }
 },
 "nbformat": 4,
 "nbformat_minor": 5
}
